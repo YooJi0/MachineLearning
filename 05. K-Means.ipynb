{
 "cells": [
  {
   "cell_type": "markdown",
   "id": "59c83cef",
   "metadata": {},
   "source": [
    "# 5. K-Means"
   ]
  },
  {
   "cell_type": "code",
   "execution_count": 1,
   "id": "20e35e96",
   "metadata": {},
   "outputs": [],
   "source": [
    " # 경고메세지에 대한 대응\n",
    "import os  \n",
    "os.environ['OMP_NUM_THREADS'] = '1'"
   ]
  },
  {
   "cell_type": "code",
   "execution_count": 2,
   "id": "6d42afd5",
   "metadata": {},
   "outputs": [],
   "source": [
    "import numpy as np\n",
    "import matplotlib.pyplot as plt\n",
    "import pandas as pd"
   ]
  },
  {
   "cell_type": "code",
   "execution_count": 3,
   "id": "ab92d2e4",
   "metadata": {},
   "outputs": [
    {
     "data": {
      "text/html": [
       "<div>\n",
       "<style scoped>\n",
       "    .dataframe tbody tr th:only-of-type {\n",
       "        vertical-align: middle;\n",
       "    }\n",
       "\n",
       "    .dataframe tbody tr th {\n",
       "        vertical-align: top;\n",
       "    }\n",
       "\n",
       "    .dataframe thead th {\n",
       "        text-align: right;\n",
       "    }\n",
       "</style>\n",
       "<table border=\"1\" class=\"dataframe\">\n",
       "  <thead>\n",
       "    <tr style=\"text-align: right;\">\n",
       "      <th></th>\n",
       "      <th>hour</th>\n",
       "      <th>score</th>\n",
       "    </tr>\n",
       "  </thead>\n",
       "  <tbody>\n",
       "    <tr>\n",
       "      <th>0</th>\n",
       "      <td>7.33</td>\n",
       "      <td>73</td>\n",
       "    </tr>\n",
       "    <tr>\n",
       "      <th>1</th>\n",
       "      <td>3.71</td>\n",
       "      <td>55</td>\n",
       "    </tr>\n",
       "    <tr>\n",
       "      <th>2</th>\n",
       "      <td>3.43</td>\n",
       "      <td>55</td>\n",
       "    </tr>\n",
       "    <tr>\n",
       "      <th>3</th>\n",
       "      <td>3.06</td>\n",
       "      <td>89</td>\n",
       "    </tr>\n",
       "    <tr>\n",
       "      <th>4</th>\n",
       "      <td>3.33</td>\n",
       "      <td>79</td>\n",
       "    </tr>\n",
       "  </tbody>\n",
       "</table>\n",
       "</div>"
      ],
      "text/plain": [
       "   hour  score\n",
       "0  7.33     73\n",
       "1  3.71     55\n",
       "2  3.43     55\n",
       "3  3.06     89\n",
       "4  3.33     79"
      ]
     },
     "execution_count": 3,
     "metadata": {},
     "output_type": "execute_result"
    }
   ],
   "source": [
    "dataset = pd.read_csv('KMeansData.csv')\n",
    "dataset[:5]"
   ]
  },
  {
   "cell_type": "code",
   "execution_count": 4,
   "id": "458c22a9",
   "metadata": {},
   "outputs": [
    {
     "data": {
      "text/plain": [
       "array([[ 7.33, 73.  ],\n",
       "       [ 3.71, 55.  ],\n",
       "       [ 3.43, 55.  ],\n",
       "       [ 3.06, 89.  ],\n",
       "       [ 3.33, 79.  ]])"
      ]
     },
     "execution_count": 4,
     "metadata": {},
     "output_type": "execute_result"
    }
   ],
   "source": [
    "# K-Means는 비지도 학습이므로 종속변수 없음, 즉 y가 필요없음\n",
    "X = dataset.iloc[:, :].values\n",
    "# X = dataset.values 와 똑같은 동작을 함\n",
    "# X =dataset.to_numpy()   -> 공식 홈페이지 권장방식이나 우리는 쓰던 방식을 통일해서 쓰기 때문에 2행코드로 진행\n",
    "X[:5]"
   ]
  },
  {
   "cell_type": "markdown",
   "id": "3365bb41",
   "metadata": {},
   "source": [
    "### 데이터 시각화 (전체 데이터 분포 확인)"
   ]
  },
  {
   "cell_type": "code",
   "execution_count": 5,
   "id": "7326a849",
   "metadata": {},
   "outputs": [
    {
     "data": {
      "image/png": "[encoded data removed]",
      "text/plain": [
       "<Figure size 432x288 with 1 Axes>"
      ]
     },
     "metadata": {
      "needs_background": "light"
     },
     "output_type": "display_data"
    }
   ],
   "source": [
    "plt.scatter(X[:, 0], X[:, 1])   # x축 ; hour, y축 ; score\n",
    "plt.title('Score by hours')\n",
    "plt.xlabel('hours')\n",
    "plt.ylabel('score')\n",
    "plt.show()"
   ]
  },
  {
   "cell_type": "markdown",
   "id": "59ca52c8",
   "metadata": {},
   "source": [
    "### 데이터 시각화 (축 범위 통일)"
   ]
  },
  {
   "cell_type": "code",
   "execution_count": 6,
   "id": "bcaa97bd",
   "metadata": {},
   "outputs": [
    {
     "data": {
      "image/png": "[encoded data removed]",
      "text/plain": [
       "<Figure size 432x288 with 1 Axes>"
      ]
     },
     "metadata": {
      "needs_background": "light"
     },
     "output_type": "display_data"
    }
   ],
   "source": [
    "plt.scatter(X[:, 0], X[:, 1])   # x축 ; hour, y축 ; score\n",
    "plt.title('Score by hours')\n",
    "plt.xlabel('hours')\n",
    "plt.xlim(0, 100)\n",
    "plt.ylabel('score')\n",
    "plt.ylim(0, 100)\n",
    "plt.show()"
   ]
  },
  {
   "cell_type": "markdown",
   "id": "cb31cec3",
   "metadata": {},
   "source": [
    "### 피처 스케일링 (Feature Scaling)"
   ]
  },
  {
   "cell_type": "code",
   "execution_count": 7,
   "id": "6a838b15",
   "metadata": {},
   "outputs": [
    {
     "data": {
      "text/plain": [
       "array([[ 0.68729921,  0.73538376],\n",
       "       [-0.66687438,  0.04198891],\n",
       "       [-0.77161709,  0.04198891],\n",
       "       [-0.9100271 ,  1.35173473],\n",
       "       [-0.8090252 ,  0.96651537]])"
      ]
     },
     "execution_count": 7,
     "metadata": {},
     "output_type": "execute_result"
    }
   ],
   "source": [
    "from sklearn.preprocessing import StandardScaler\n",
    "sc = StandardScaler()\n",
    "X = sc.fit_transform(X)\n",
    "\n",
    "\n",
    "X[:5]"
   ]
  },
  {
   "cell_type": "markdown",
   "id": "fbc7ca43",
   "metadata": {},
   "source": [
    "### 데이터 시각화 (스케일링된 데이터)"
   ]
  },
  {
   "cell_type": "code",
   "execution_count": 8,
   "id": "b9057e51",
   "metadata": {},
   "outputs": [
    {
     "data": {
      "image/png": "[encoded data removed]",
      "text/plain": [
       "<Figure size 360x360 with 1 Axes>"
      ]
     },
     "metadata": {
      "needs_background": "light"
     },
     "output_type": "display_data"
    }
   ],
   "source": [
    "plt.figure(figsize = (5, 5))\n",
    "plt.scatter(X[:, 0], X[:, 1])\n",
    "plt.title('Score by hours')\n",
    "plt.xlabel('hours')\n",
    "plt.ylabel('score')\n",
    "plt.show()"
   ]
  },
  {
   "cell_type": "markdown",
   "id": "633ccd09",
   "metadata": {},
   "source": [
    "### 최적의 K값 찾기 (엘보우 방식 Elbow Method)"
   ]
  },
  {
   "cell_type": "code",
   "execution_count": 13,
   "id": "86576eb7",
   "metadata": {},
   "outputs": [
    {
     "data": {
      "image/png": "[encoded data removed]",
      "text/plain": [
       "<Figure size 432x288 with 1 Axes>"
      ]
     },
     "metadata": {
      "needs_background": "light"
     },
     "output_type": "display_data"
    }
   ],
   "source": [
    "from sklearn.cluster import KMeans\n",
    "\n",
    "# 반복문을 통해 클러스터를 변형시켜가며 중심점까지의 거리 제곱의 합이 어떻게 줄어드는지 그래프로 그려보기\n",
    "# 각 지점들로부터 중심점까지의 거리 제곱의 합을 클러스터 갯수 변할 때마다 따로 저장 -> 이들을 그래프로 그려보기\n",
    "inertia_list = []\n",
    "for i in range(1, 11):\n",
    "    kmeans = KMeans(n_clusters = i, init = 'k-means++', random_state = 0)    # init = 'k-means++' ; k-means++로 사용하기 위한 과정\n",
    "    kmeans.fit(X)   # 지도학습과는 다르게 y가 없으므로 X만 넣어줌\n",
    "    inertia_list.append(kmeans.inertia_)   # 각 지점으로부터 클러스터의 중심(centroid)까지의 거리의 제곱의 합을 하나씩 리스트에 넣어줌\n",
    "\n",
    "    \n",
    "plt.plot(range(1, 11), inertia_list)\n",
    "plt.title('Elbow Method')\n",
    "plt.xlabel('n_clusters')  # 클러스터 갯수\n",
    "plt.ylabel('inertia')  # 거리의 제곱 합\n",
    "plt.show()"
   ]
  },
  {
   "cell_type": "markdown",
   "id": "d1370e0e",
   "metadata": {},
   "source": [
    "### 최적의 K(4) 값으로 KMeans 학습"
   ]
  },
  {
   "cell_type": "code",
   "execution_count": 14,
   "id": "6fba20fa",
   "metadata": {},
   "outputs": [],
   "source": [
    "K = 4   # 최적의 K값"
   ]
  },
  {
   "cell_type": "code",
   "execution_count": 15,
   "id": "336594d6",
   "metadata": {},
   "outputs": [],
   "source": [
    "# kmeans = KMeans(n_clusters = K, init = 'kmeans++', random_state = 0) \n",
    "kmeans = KMeans(n_clusters = K, random_state = 0)   \n",
    "# init 속성의 디폴트 값이 kmeans++이라 init = 'kmeans++' 굳이 안적어줘도 됨\n",
    "y_kmeans = kmeans.fit_predict(X)  # X 데이터를 넣어서 학습(fit)을 하고, 이를 통해 예측되는 값을 받아와서 반환"
   ]
  },
  {
   "cell_type": "code",
   "execution_count": 16,
   "id": "970b734d",
   "metadata": {},
   "outputs": [
    {
     "data": {
      "text/plain": [
       "array([2, 3, 3, 0, 0, 1, 1, 0, 2, 0, 0, 3, 1, 3, 3, 0, 1, 2, 3, 0, 1, 0,\n",
       "       3, 1, 2, 2, 3, 3, 3, 3, 1, 1, 3, 0, 2, 2, 3, 0, 0, 0, 3, 1, 2, 3,\n",
       "       3, 2, 1, 0, 1, 1, 2, 0, 1, 1, 0, 0, 0, 0, 3, 1, 1, 2, 2, 2, 2, 1,\n",
       "       1, 0, 1, 2, 3, 2, 2, 2, 3, 3, 3, 3, 0, 2, 1, 2, 1, 1, 2, 0, 3, 1,\n",
       "       2, 3, 0, 1, 0, 2, 3, 2, 2, 0, 1, 3])"
      ]
     },
     "execution_count": 16,
     "metadata": {},
     "output_type": "execute_result"
    }
   ],
   "source": [
    "y_kmeans\n",
    "# 클러스터가 4개니까 0 1 2 3 에 해당하는 y값을 가져온 것을 알 수 있다."
   ]
  },
  {
   "cell_type": "markdown",
   "id": "51a0e9c7",
   "metadata": {},
   "source": [
    "### 데이터 시각화 (최적의 K)"
   ]
  },
  {
   "cell_type": "code",
   "execution_count": 19,
   "id": "dfa0912e",
   "metadata": {},
   "outputs": [
    {
     "data": {
      "text/plain": [
       "array([[-0.57163957,  0.85415973],\n",
       "       [ 0.8837666 , -1.26929779],\n",
       "       [ 0.94107583,  0.93569782],\n",
       "       [-1.22698889, -0.46768593]])"
      ]
     },
     "execution_count": 19,
     "metadata": {},
     "output_type": "execute_result"
    }
   ],
   "source": [
    "centers = kmeans.cluster_centers_   # 클러스터의 중심점(centroid) 좌표를 가지고 있는 정보\n",
    "centers"
   ]
  },
  {
   "cell_type": "code",
   "execution_count": 22,
   "id": "7bee0f02",
   "metadata": {},
   "outputs": [
    {
     "data": {
      "image/png": "[encoded data removed]",
      "text/plain": [
       "<Figure size 432x288 with 1 Axes>"
      ]
     },
     "metadata": {
      "needs_background": "light"
     },
     "output_type": "display_data"
    }
   ],
   "source": [
    "# 각 클러스터의 색깔을 다르게 하여 그래프에 표현 -> 반복문 이용\n",
    "for cluster in range(K):   # K = 4 이므로 0 1 2 3까지 총 4번반복\n",
    "    plt.scatter(X[y_kmeans == cluster, 0], X[y_kmeans == cluster, 1], s = 100, edgecolor = 'black')   \n",
    "    # 0과 1은 컬럼0, 컬럼1을 의미 // plt.scatter(X값, y값) // s = 데이터 사이즈 // edgecolor = 테두리 색깔 설정\n",
    "    \n",
    "    plt.scatter(centers[cluster, 0], centers[cluster, 1], s = 300, edgecolor = 'black', color = 'yellow', marker = 's')\n",
    "    # 데이터 모양 marker = 's' (;square)\n",
    "    \n",
    "    plt.text(centers[cluster, 0], centers[cluster, 1], cluster, va = 'center', ha = 'center')\n",
    "    # 클러스터 텍스트 출력\n",
    "    # 몇 번째 클러스터인지 숫자 넣어주기\n",
    "    # va ; vertical alignment 세로 조정\n",
    "    # ha ; horizontal alignment 가로 조정\n",
    "\n",
    "plt.title('Score by hours')\n",
    "plt.xlabel('hours')\n",
    "plt.ylabel('Score')\n",
    "plt.show()\n",
    "    "
   ]
  },
  {
   "cell_type": "markdown",
   "id": "97056301",
   "metadata": {},
   "source": [
    "### 데이터 시각화 (스케일링 원복)"
   ]
  },
  {
   "cell_type": "code",
   "execution_count": 23,
   "id": "23a2fbd6",
   "metadata": {},
   "outputs": [
    {
     "data": {
      "text/plain": [
       "array([[ 7.33, 73.  ],\n",
       "       [ 3.71, 55.  ],\n",
       "       [ 3.43, 55.  ],\n",
       "       [ 3.06, 89.  ],\n",
       "       [ 3.33, 79.  ]])"
      ]
     },
     "execution_count": 23,
     "metadata": {},
     "output_type": "execute_result"
    }
   ],
   "source": [
    "X_org = sc.inverse_transform(X)   # Feature Scaling된 데이터를 다시 원복하는 작업\n",
    "X_org[:5]"
   ]
  },
  {
   "cell_type": "code",
   "execution_count": 25,
   "id": "843cf06a",
   "metadata": {},
   "outputs": [
    {
     "data": {
      "text/plain": [
       "array([[ 3.96458333, 76.08333333],\n",
       "       [ 7.8552    , 20.96      ],\n",
       "       [ 8.0084    , 78.2       ],\n",
       "       [ 2.21269231, 41.76923077]])"
      ]
     },
     "execution_count": 25,
     "metadata": {},
     "output_type": "execute_result"
    }
   ],
   "source": [
    "# centroid 의 좌표도 원복시키자\n",
    "\n",
    "centers_org = sc.inverse_transform(centers)\n",
    "centers_org"
   ]
  },
  {
   "cell_type": "code",
   "execution_count": 26,
   "id": "07fab643",
   "metadata": {},
   "outputs": [
    {
     "data": {
      "image/png": "[encoded data removed]",
      "text/plain": [
       "<Figure size 432x288 with 1 Axes>"
      ]
     },
     "metadata": {
      "needs_background": "light"
     },
     "output_type": "display_data"
    }
   ],
   "source": [
    "# 원복된 데이터를 그대로 시각화에 반영\n",
    "\n",
    "# 각 클러스터의 색깔을 다르게 하여 그래프에 표현 -> 반복문 이용\n",
    "for cluster in range(K):   # K = 4 이므로 0 1 2 3까지 총 4번반복\n",
    "    plt.scatter(X_org[y_kmeans == cluster, 0], X_org[y_kmeans == cluster, 1], s = 100, edgecolor = 'black')   \n",
    "    # 0과 1은 컬럼0, 컬럼1을 의미 // plt.scatter(X값, y값) // s = 데이터 사이즈 // edgecolor = 테두리 색깔 설정\n",
    "    \n",
    "    plt.scatter(centers_org[cluster, 0], centers_org[cluster, 1], s = 300, edgecolor = 'black', color = 'yellow', marker = 's')\n",
    "    # 데이터 모양 marker = 's' (;square)\n",
    "    \n",
    "    plt.text(centers_org[cluster, 0], centers_org[cluster, 1], cluster, va = 'center', ha = 'center')\n",
    "    # 클러스터 텍스트 출력\n",
    "    # 몇 번째 클러스터인지 숫자 넣어주기\n",
    "    # va ; vertical alignment 세로 조정\n",
    "    # ha ; horizontal alignment 가로 조정\n",
    "\n",
    "plt.title('Score by hours')\n",
    "plt.xlabel('hours')\n",
    "plt.ylabel('Score')\n",
    "plt.show()"
   ]
  },
  {
   "cell_type": "code",
   "execution_count": 27,
   "id": "2109a63c",
   "metadata": {},
   "outputs": [],
   "source": [
    "# 데이터를 바탕으로 확인가능한 사실\n",
    "# 0번째 그룹 ; 공부시간은 적은데 상대적으로 점수가 높음, 공부 효율성 높음, 성능 good\n",
    "# 1번째 그룹 ; 공부시간은 많은데 점수가 낮다, 공부 효율성 낮음, 집중도가 낮음을 유추가능\n",
    "# 2번째 그룹 ; 공부시간도 많고, 점수도 높다, 정직, 좀 더 효율적으로 공부하여 0번째 그룹으로 이동하도록\n",
    "# 3번째 그룹 ; 공부시간도 적고, 점수도 낮다,"
   ]
  }
 ],
 "metadata": {
  "kernelspec": {
   "display_name": "Python 3 (ipykernel)",
   "language": "python",
   "name": "python3"
  },
  "language_info": {
   "codemirror_mode": {
    "name": "ipython",
    "version": 3
   },
   "file_extension": ".py",
   "mimetype": "text/x-python",
   "name": "python",
   "nbconvert_exporter": "python",
   "pygments_lexer": "ipython3",
   "version": "3.9.7"
  }
 },
 "nbformat": 4,
 "nbformat_minor": 5
}
